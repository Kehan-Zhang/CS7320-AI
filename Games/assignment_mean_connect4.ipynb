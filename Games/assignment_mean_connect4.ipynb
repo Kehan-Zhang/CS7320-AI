{
 "cells": [
  {
   "cell_type": "markdown",
   "metadata": {},
   "source": [
    "# Adversarial Search: Playing \"Mean\" Connect 4\n",
    "\n",
    "\n",
    "## Instructions\n",
    "\n",
    "Total Points: Undegraduates 10, graduate students 11\n",
    "\n",
    "Complete this notebook and submit it. The notebook needs to be a complete project report with your implementation, documentation including a short discussion of how your implementation works and your design choices, and experimental results (e.g., tables and charts with simulation results) with a short discussion of what they mean. Use the provided notebook cells and insert additional code and markdown cells as needed.\n",
    "\n",
    "## Introduction\n",
    "\n",
    "You will implement different versions of agents that play \"Mean\" Connect 4:\n",
    "\n",
    "> \"Connect 4 is a two-player connection board game, in which the players choose a color and then take turns dropping colored discs into a seven-column, six-row vertically suspended grid. The pieces fall straight down, occupying the lowest available space within the column. The objective of the game is to be the first to form a horizontal, vertical, or diagonal line of four of one's own discs.\" (see [Connect Four on Wikipedia](https://en.wikipedia.org/wiki/Connect_Four))\n",
    "\n",
    "> **The mean part:** This game has an additional rule. Every time it is a player's turn, the player can decide to instead of playing a new disk, take a bottom row disk of the opponent and place it in any column. All disks above the removed disk will fall down one position. Note that a player can only move an _opponent's disc_ that is in the _bottom row_ of the board.\n",
    "\n",
    "Note that normal [Connect-4 has been solved](https://en.wikipedia.org/wiki/Connect_Four#Mathematical_solution)\n",
    "in 1988. A connect-4 solver with a discussion of how to solve different parts of the problem can be found here: https://connect4.gamesolver.org/en/"
   ]
  },
  {
   "cell_type": "markdown",
   "metadata": {},
   "source": [
    "## Task 1: Defining the Search Problem [1 point]\n",
    "\n",
    "Define the components of the search problem associated with this game:\n",
    "\n",
    "* Initial state\n",
    "* Actions\n",
    "* Transition model\n",
    "* Test for the terminal state\n",
    "* Utility for terminal states"
   ]
  },
  {
   "cell_type": "markdown",
   "metadata": {},
   "source": [
    "__Initial state:__ empty board\n",
    "\n",
    "__Actions:__ column number to put token(column not full)/ column number to remove opponent's token(the bottom spot of the column is opponent's token) and column number to put opponent's token\n",
    "\n",
    "__Transition model:__ put the token on the lowest empty spot in the chosen column/ remove the opponent's token away from the chosen column and put it to the lowest empty spot to the chosen column.\n",
    "\n",
    "__Test for the terminal state:__ if one player have 4 token connected(horizontal, vertical, or diagonal)/ if it is all the spots have been filled in and nobody wins(draw)\n",
    "\n",
    "__Utility for terminal states:__ -1 for lose, 0 for draw and +1 for win"
   ]
  },
  {
   "cell_type": "markdown",
   "metadata": {},
   "source": [
    "How big is the state space? Give an estimate and explain it."
   ]
  },
  {
   "cell_type": "markdown",
   "metadata": {},
   "source": [
    "__State space__\n",
    "\n",
    "If the player want to use 'play' part, he have 7 choices. The bottom line can have at most 6 opponent's disc(-1, -1, -1, 1, -1, -1, -1), so the player can have 6 * 7 chocies if use the 'mean' part. So the player can have 6 * 7 + 7 = 49 choices each move at most. If we limit the total number of move to 100, the an upper bound of the state space will be 49^100. \n",
    "\n",
    "Since we have 6 * 7 = 42 spots on the board, and the status of each spot can be empty, yellow or red, which make the state space has a tighter upper bound 3^42."
   ]
  },
  {
   "cell_type": "markdown",
   "metadata": {},
   "source": [
    "How big is the game tree that minimax search will go through? Give an estimate and explain it."
   ]
  },
  {
   "cell_type": "markdown",
   "metadata": {},
   "source": [
    "__Size of game tree__\n",
    "\n",
    "The game tree can have at most 100 levels since we set the move limit to 100, and each node in the tree can have 49 branches. Therefore, number of total nodes in the game tree can at most be 1 + 49 + 49^2 + ... + 49^99 = 1.02 * 49^99."
   ]
  },
  {
   "cell_type": "markdown",
   "metadata": {},
   "source": [
    "## Task 2: Game Environment and Random Agent [3 point]\n",
    "\n",
    "You can use a numpy character array as the board. Note that the following function can create boards of different sizes."
   ]
  },
  {
   "cell_type": "code",
   "execution_count": 1,
   "metadata": {},
   "outputs": [
    {
     "name": "stdout",
     "output_type": "stream",
     "text": [
      "[[0 0 0 0]\n",
      " [0 0 0 0]\n",
      " [0 0 0 0]\n",
      " [0 0 0 0]]\n"
     ]
    }
   ],
   "source": [
    "import numpy as np\n",
    "\n",
    "def empty_board(shape=(4, 4)):\n",
    "    return np.full(shape=shape, fill_value=0)\n",
    "\n",
    "print(empty_board())"
   ]
  },
  {
   "cell_type": "markdown",
   "metadata": {},
   "source": [
    "Instead of colors (red and yellow), you can use 1 and -1 to represent the players Max and Min. Make sure that your agent functions all have the from: `agent_type(board, player = 1)`, where board is the current board position and player is the player (1, -1) whose next move it is and who the agent should play."
   ]
  },
  {
   "cell_type": "markdown",
   "metadata": {},
   "source": [
    "Visualization code by Randolph Rankin:"
   ]
  },
  {
   "cell_type": "code",
   "execution_count": 2,
   "metadata": {
    "scrolled": true
   },
   "outputs": [
    {
     "data": {
      "image/png": "[encoded data removed]",
      "text/plain": [
       "<Figure size 432x288 with 1 Axes>"
      ]
     },
     "metadata": {
      "needs_background": "light"
     },
     "output_type": "display_data"
    }
   ],
   "source": [
    "import matplotlib.pyplot as plt\n",
    "\n",
    "def visualize(board):\n",
    "    plt.axes()\n",
    "    rectangle=plt.Rectangle((-0.5,len(board)*-1+0.5),len(board[0]),len(board),fc='blue')\n",
    "    circles=[]\n",
    "    for i,row in enumerate(board):\n",
    "        for j,val in enumerate(row):\n",
    "            color='white' if val==0 else 'red' if val==1 else 'yellow'\n",
    "            circles.append(plt.Circle((j,i*-1),0.4,fc=color))\n",
    "\n",
    "    plt.gca().add_patch(rectangle)\n",
    "    for circle in circles:\n",
    "        plt.gca().add_patch(circle)\n",
    "\n",
    "    plt.axis('scaled')\n",
    "    plt.show()\n",
    "    \n",
    "board = [[0, 0, 0, 0, 0, 0, 0],\n",
    "         [0, 0, 0, 0, 0, 0, 0],\n",
    "         [0, 0, 0, 0, 0, 0, 0],\n",
    "         [0, 0, 0, 1, 0, 0, 0],\n",
    "         [0, 0, 0, 1, 0, 0, 0],\n",
    "         [0,-1,-1, 1,-1, 0, 0]]\n",
    "\n",
    "visualize(board)"
   ]
  },
  {
   "cell_type": "markdown",
   "metadata": {},
   "source": [
    "Implement helper functions for:\n",
    "\n",
    "* The transition model $results(s, a)$.\n",
    "* The utility function $utility(s)$.\n",
    "* Check for terminal states $terminal(s)$.\n",
    "* A check for available actions in each state $actions(s)$.\n",
    "\n",
    "Make sure that all these functions work with boards of different sizes (number of columns and rows)."
   ]
  },
  {
   "cell_type": "code",
   "execution_count": 3,
   "metadata": {},
   "outputs": [],
   "source": [
    "# find the lowest empty spot in the chosen column\n",
    "def lowest_empty_spot(board, column):\n",
    "    height = len(board)\n",
    "    for i in range(height):\n",
    "        if board[height - i - 1][column] == 0:\n",
    "            empty_spot = height - i - 1\n",
    "            return empty_spot\n",
    "        \n",
    "# find the other player\n",
    "def other(player): \n",
    "    if player == 1: return -1\n",
    "    else: return 1\n",
    "\n",
    "# get all possible actions\n",
    "def actions(board, player):\n",
    "    actions = list()\n",
    "    \n",
    "    # if player want to put his own disc\n",
    "    for i in np.where(np.array(board[0]) == 0)[0]:\n",
    "        actions.append(['play', i])\n",
    "        \n",
    "    # if player want to remove opponent's disc\n",
    "    for i in np.where(np.array(board[len(board) - 1]) == other(player))[0]:\n",
    "        for j in np.where(np.array(board[0]) == 0)[0]:\n",
    "            actions.append(['mean', i, j])\n",
    "        if(['mean', i, i] not in actions):\n",
    "            actions.append(['mean', i, i])\n",
    "            \n",
    "    return actions\n",
    "\n",
    "# the new state after one action\n",
    "def result(board, action, player):\n",
    "    board = board.copy()\n",
    "    \n",
    "    # player choose to play\n",
    "    if(action[0] == 'play'):\n",
    "        pos = lowest_empty_spot(board, action[1])\n",
    "        board[pos][action[1]] = player\n",
    "        \n",
    "    # player choose to mean\n",
    "    else:\n",
    "        # each disc in the chosen column fall down one spot\n",
    "        for i in range(len(board) - 1):\n",
    "            board[len(board) - i - 1][action[1]] = board[len(board) - i - 2][action[1]]\n",
    "        board[0][action[1]] = 0\n",
    "        \n",
    "        # put opponent's disc to a new column\n",
    "        pos = lowest_empty_spot(board, action[2])\n",
    "        board[pos][action[2]] = other(player)\n",
    "    \n",
    "    return board\n",
    "\n",
    "# the transition model\n",
    "def results(board, action, player):\n",
    "    if player == -1: opponent = 1\n",
    "    else: opponent = -1\n",
    "    \n",
    "    board = board.copy()\n",
    "    \n",
    "    # player's move\n",
    "    board = result(board, action, player)\n",
    "    \n",
    "    # opponent's possible moves\n",
    "    results = list()\n",
    "    opponent_actions = actions(board, other(player))\n",
    "    \n",
    "    # board is full\n",
    "    if len(opponent_actions) < 1 : return [board]\n",
    "    \n",
    "    # the new states after all opponent's possible moves\n",
    "    for opponent_action in opponent_actions:\n",
    "        possible_board = result(board, opponent_action, other(player))\n",
    "        results.append(possible_board) \n",
    "    \n",
    "    return results\n",
    "\n",
    "# the utility function\n",
    "def utility(board):\n",
    "    height = len(board)\n",
    "    width = len(board[0])\n",
    "    \n",
    "    # check if there are 4 discs connected horizontally\n",
    "    for i in range(height):\n",
    "        for j in range(width - 3):\n",
    "            if(board[i][j] + board[i][j + 1] + board[i][j + 2] + board[i][j + 3] == 4):\n",
    "                return 1\n",
    "            if(board[i][j] + board[i][j + 1] + board[i][j + 2] + board[i][j + 3] == -4):\n",
    "                return -1\n",
    "    \n",
    "    # check if there are 4 discs connected vertically\n",
    "    for j in range(width):\n",
    "        for i in range(height - 3):\n",
    "            if(board[i][j] + board[i + 1][j] + board[i + 2][j] + board[i + 3][j] == 4):\n",
    "                return 1\n",
    "            if(board[i][j] + board[i + 1][j] + board[i + 2][j] + board[i + 3][j] == -4):\n",
    "                return -1\n",
    "            \n",
    "    # check if there are 4 discs connected diagnoally\n",
    "    for i in range(height - 3):\n",
    "        for j in range(width - 3):\n",
    "            if(board[i][j] + board[i + 1][j + 1] + board[i + 2][j + 2] + board[i + 3][j + 3] == 4):\n",
    "                return 1\n",
    "            if(board[i][j] + board[i + 1][j + 1] + board[i + 2][j + 2] + board[i + 3][j + 3] == -4):\n",
    "                return -1\n",
    "            if(board[i + 3][j] + board[i + 2][j + 1] + board[i + 1][j + 2] + board[i][j + 3] == 4):\n",
    "                return 1\n",
    "            if(board[i + 3][j] + board[i + 2][j + 1] + board[i + 1][j + 2] + board[i][j + 3] == -4):\n",
    "                return -1\n",
    "    \n",
    "    # check for draw\n",
    "    if 0 not in board:\n",
    "        return 0\n",
    "    \n",
    "    return None\n",
    "\n",
    "# check for terminal states\n",
    "def terminal(board): \n",
    "    return utility(board) != None"
   ]
  },
  {
   "cell_type": "markdown",
   "metadata": {},
   "source": [
    "Implement an agent that plays randomly. Make sure the agent function receives as the percept the board and returns a valid action."
   ]
  },
  {
   "cell_type": "code",
   "execution_count": 4,
   "metadata": {},
   "outputs": [],
   "source": [
    "def random_player(board, player):\n",
    "    action = actions(board, player)\n",
    "    choice = np.random.randint(0, len(action))\n",
    "    return action[choice]"
   ]
  },
  {
   "cell_type": "markdown",
   "metadata": {},
   "source": [
    "Let two random agents play against each other 1000 times. Look at the [Experiments section for tic-tac-toe](https://nbviewer.org/github/mhahsler/CS7320-AI/blob/master/Games/tictactoe_and_or_tree_search.ipynb#Experiments) to see how ranom agents can play against each other.\n",
    "\n",
    "How often does each player win? Is the result expected?"
   ]
  },
  {
   "cell_type": "code",
   "execution_count": 6,
   "metadata": {},
   "outputs": [
    {
     "data": {
      "text/plain": [
       "{1: 799, -1: 194, 0: 7}"
      ]
     },
     "execution_count": 6,
     "metadata": {},
     "output_type": "execute_result"
    }
   ],
   "source": [
    "def switch_player(player, player1_algorithm, player2_algorithm):\n",
    "    if player == 1:\n",
    "        return -1, player2_algorithm\n",
    "    else:\n",
    "        return 1, player1_algorithm\n",
    "    \n",
    "def environment(player1, player2, n = 1000):\n",
    "    results = {1: 0, -1: 0, 0: 0}\n",
    "    \n",
    "    for i in range(n):\n",
    "        move = 0\n",
    "        board = empty_board()\n",
    "        player, player_algorithm = 1, player1\n",
    "        \n",
    "        while move < 100:\n",
    "            move += 1\n",
    "            \n",
    "            # if the agent use alpha_beta_search, set the move limit to be 20\n",
    "            if(player_algorithm == alpha_beta_search):\n",
    "                action = player_algorithm(board, 10, player)\n",
    "            else:\n",
    "                action = player_algorithm(board, player)\n",
    "            \n",
    "            board = result(board, action, player)\n",
    "            \n",
    "            winner = utility(board)   \n",
    "            if winner != None:\n",
    "                results[winner] += 1\n",
    "                break\n",
    "                \n",
    "            if move == 100:\n",
    "                results[0] += 1\n",
    "            \n",
    "            player, player_algorithm = switch_player(player, player1, player2)\n",
    "    \n",
    "    return results\n",
    "\n",
    "environment(random_player, random_player)"
   ]
  },
  {
   "cell_type": "markdown",
   "metadata": {},
   "source": [
    "The proportion of the player who go first winning is around 80% and of the player who go second winning is around 20%. This is a expected result since the player who go first have a larger possibility to win. "
   ]
  },
  {
   "cell_type": "markdown",
   "metadata": {},
   "source": [
    "## Task 3: Minimax Search with Alpha-Beta Pruning [3 points]\n",
    "\n",
    "### Implement the search starting from a given board and specifying the player.\n",
    "\n",
    "You can use code from the [tic-tac-toe example](https://nbviewer.org/github/mhahsler/CS7320-AI/blob/master/Games/tictactoe_alpha_beta_tree_search.ipynb).\n"
   ]
  },
  {
   "cell_type": "markdown",
   "metadata": {},
   "source": [
    "__Note:__ The game tree for a $6 \\times 7$ board is large. You can experiment with smaller boards (the smallest is $4 \\times 4$)."
   ]
  },
  {
   "cell_type": "code",
   "execution_count": 21,
   "metadata": {},
   "outputs": [],
   "source": [
    "import math\n",
    "\n",
    "def alpha_beta_search(board, move_limit = +math.inf, player = 1):\n",
    "    depth = 0\n",
    "    value, move = max_value_ab(move_limit, depth, board, player, -math.inf, +math.inf)\n",
    "    return move\n",
    "\n",
    "def max_value_ab(move_limit, depth, state, player, alpha, beta):\n",
    "    depth += 1\n",
    "       \n",
    "    # return utility of state is a terminal state\n",
    "    value = utility(state)\n",
    "    if value is not None: return value, None\n",
    "    if depth > move_limit: return 0, None\n",
    "        \n",
    "    value, move = -math.inf, None\n",
    "    # check all possible actions in the state, update alpha and return move with the largest value\n",
    "    for action in actions(state, player):\n",
    "        value2, action2 = min_value_ab(move_limit, depth, result(state, action, player), player, alpha, beta)\n",
    "        if value2 > value:\n",
    "            value, move = value2, action\n",
    "            alpha = max(alpha, value)\n",
    "        if value >= beta: return value, move\n",
    "    \n",
    "    return value, move\n",
    "\n",
    "def min_value_ab(move_limit, depth, state, player, alpha, beta):\n",
    "    depth += 1\n",
    "    \n",
    "    # return utility of state is a terminal state\n",
    "    value = utility(state)\n",
    "    if value is not None: return value, None\n",
    "    if depth > move_limit: return 0, None\n",
    "    \n",
    "    value, move = +math.inf, None\n",
    "    # check all possible actions in the state, update beta and return move with the smallest value\n",
    "    for action in actions(state, other(player)):\n",
    "        value2, action2 = max_value_ab(move_limit, depth, result(state, action, other(player)), player, alpha, beta)\n",
    "        if value2 < value:\n",
    "            value, move = value2, action\n",
    "            beta = min(beta, value)\n",
    "        if value <= alpha: return value, move\n",
    "    \n",
    "    return value, move"
   ]
  },
  {
   "cell_type": "markdown",
   "metadata": {},
   "source": [
    "Experiment with some manually created boards (at least 5) to check if the agent spots winning opportunities."
   ]
  },
  {
   "cell_type": "code",
   "execution_count": 7,
   "metadata": {
    "tags": []
   },
   "outputs": [
    {
     "name": "stdout",
     "output_type": "stream",
     "text": [
      "['play', 3]\n",
      "['play', 0]\n",
      "['play', 2]\n",
      "['play', 0]\n",
      "['play', 1]\n"
     ]
    }
   ],
   "source": [
    "board = np.array([[0, 0, 0, 0],\n",
    "                  [-1, 1, -1, 1],\n",
    "                  [1, -1, -1, 1],\n",
    "                  [1, -1, 1, 1]])\n",
    "print(alpha_beta_search(board))\n",
    "\n",
    "board = np.array([[0, 0, 0, 0],\n",
    "                  [0, 0, 0, -1],\n",
    "                  [0, 0, -1, -1],\n",
    "                  [0, 1, 1, 1]])\n",
    "print(alpha_beta_search(board))\n",
    "\n",
    "board = np.array([[0, 0, 0, 0],\n",
    "                  [1, 1, 0, 1],\n",
    "                  [-1, 1, -1, -1],\n",
    "                  [1, -1, -1, -1]])\n",
    "print(alpha_beta_search(board))\n",
    "\n",
    "board = np.array([[0, 0, 0, 0],\n",
    "                  [-1, 1, 0, 0],\n",
    "                  [1, -1, 1, -1],\n",
    "                  [-1, -1, -1, 1]])\n",
    "print(alpha_beta_search(board))\n",
    "\n",
    "board = np.array([[0, 0, 0, 0],\n",
    "                  [-1, 1, 1, -1],\n",
    "                  [-1, 1,-1, 1],\n",
    "                  [-1, 1, -1, 1]])\n",
    "print(alpha_beta_search(board))"
   ]
  },
  {
   "cell_type": "markdown",
   "metadata": {},
   "source": [
    "This Minimax Search with Alpha-Beta Pruning can spot winning opportunities."
   ]
  },
  {
   "cell_type": "markdown",
   "metadata": {},
   "source": [
    "How long does it take to make a move? Start with a smaller board with 4 columns and make the board larger by adding columns."
   ]
  },
  {
   "cell_type": "markdown",
   "metadata": {},
   "source": [
    "Since the game is so large, if we use an empty board to run the agent, it will take too much time. So we add some discs on the board ahead and find out how long does it take to make a move on different sizes of board."
   ]
  },
  {
   "cell_type": "code",
   "execution_count": 8,
   "metadata": {
    "tags": []
   },
   "outputs": [
    {
     "data": {
      "text/plain": [
       "['play', 3]"
      ]
     },
     "metadata": {},
     "output_type": "display_data"
    },
    {
     "name": "stdout",
     "output_type": "stream",
     "text": [
      "CPU times: user 59.6 ms, sys: 5 ms, total: 64.6 ms\n",
      "Wall time: 67.5 ms\n"
     ]
    },
    {
     "data": {
      "text/plain": [
       "['play', 2]"
      ]
     },
     "metadata": {},
     "output_type": "display_data"
    },
    {
     "name": "stdout",
     "output_type": "stream",
     "text": [
      "CPU times: user 920 ms, sys: 11.8 ms, total: 932 ms\n",
      "Wall time: 928 ms\n"
     ]
    },
    {
     "data": {
      "text/plain": [
       "['play', 2]"
      ]
     },
     "metadata": {},
     "output_type": "display_data"
    },
    {
     "name": "stdout",
     "output_type": "stream",
     "text": [
      "CPU times: user 39 s, sys: 193 ms, total: 39.2 s\n",
      "Wall time: 39 s\n"
     ]
    },
    {
     "data": {
      "text/plain": [
       "['play', 2]"
      ]
     },
     "metadata": {},
     "output_type": "display_data"
    },
    {
     "name": "stdout",
     "output_type": "stream",
     "text": [
      "CPU times: user 7min 9s, sys: 2.38 s, total: 7min 11s\n",
      "Wall time: 7min 9s\n"
     ]
    }
   ],
   "source": [
    "board = np.array([[0, 0, 0, 0],\n",
    "                  [1, -1, 1, -1],\n",
    "                  [-1, 1, -1, -1],\n",
    "                  [1, 1, -1, 1]])\n",
    "%time display(alpha_beta_search(board, 10))\n",
    "\n",
    "board = np.array([[0, 0, 0, 0, 0],\n",
    "                  [-1, 1, -1, 1, -1],\n",
    "                  [-1, -1, -1, 1, -1],\n",
    "                  [1, 1, -1, 1, 1]])\n",
    "%time display(alpha_beta_search(board, 12))\n",
    "\n",
    "board = np.array([[0, 0, 0, 0, 0, 0],\n",
    "                  [-1, 1, -1, 1, -1, 1],\n",
    "                  [-1, -1, -1, 1, -1, -1],\n",
    "                  [1, 1, -1, 1, 1, 1]])\n",
    "%time display(alpha_beta_search(board, 14))\n",
    "\n",
    "board = np.array([[0, 0, 0, 0, 0, 0, 0],\n",
    "                  [-1, 1, -1, 1, -1, 1, -1],\n",
    "                  [1, -1, -1, -1, 1, -1, -1],\n",
    "                  [1, 1, 1, -1, 1, 1, 1]])\n",
    "%time display(alpha_beta_search(board, 14))"
   ]
  },
  {
   "cell_type": "markdown",
   "metadata": {},
   "source": [
    "### Move ordering\n",
    "\n",
    "Describe and implement a simple move ordering strategy. Make a table that shows how the ordering strategies influence the time it takes to make a move?"
   ]
  },
  {
   "cell_type": "markdown",
   "metadata": {},
   "source": [
    "__Definition of the move ordering:__\n",
    "\n",
    "1. Always use 'play' prior to 'mean'\n",
    "2. When use 'play', put the disc on the center prior to sides.\n",
    "3. When use 'mean', put opponent's disc on the sides prior to center"
   ]
  },
  {
   "cell_type": "code",
   "execution_count": 22,
   "metadata": {
    "tags": []
   },
   "outputs": [],
   "source": [
    "def actions(board, current_player):\n",
    "    actions = list()\n",
    "    actions_priority = list()\n",
    "    count_play = 0\n",
    "    count_mean = 0\n",
    "    \n",
    "    # if player want to put his own disc\n",
    "    for i in np.where(np.array(board[0]) == 0)[0]:\n",
    "        actions.append(['play', i])\n",
    "        count_play += 1\n",
    "        \n",
    "    # if player want to remove opponent's disc\n",
    "    for i in np.where(np.array(board[len(board) - 1]) == other(current_player))[0]:\n",
    "        for j in np.where(np.array(board[0]) == 0)[0]:\n",
    "            actions.append(['mean', i, j])\n",
    "            count_mean += 1\n",
    "        if(['mean', i, i] not in actions):\n",
    "            actions.append(['mean', i, i])\n",
    "            count_mean += 1\n",
    "        \n",
    "    # order the action list\n",
    "    board_size = len(board[0])\n",
    "    if board_size % 2 == 0:\n",
    "        play1 = list()\n",
    "        for i in range(int(board_size / 2)):\n",
    "            play1.append(i)\n",
    "        play2 = play1[::-1]\n",
    "        priority_play = play1 + play2\n",
    "        priority_mean = play2 + play1\n",
    "        \n",
    "    if board_size % 2 == 1:\n",
    "        play1 = list()\n",
    "        for i in range(int(board_size / 2)):\n",
    "            play1.append(i)\n",
    "        play2 = play1[::-1]\n",
    "        play1.append(int(board_size / 2))\n",
    "        priority_play = play1 + play2\n",
    "        priority_mean = play1[::-1] + play1\n",
    "        del priority_mean[int(board_size / 2)]\n",
    "                          \n",
    "    for i in range(count_play + count_mean):\n",
    "        if actions[i][0] == 'play':\n",
    "            actions_priority.append([priority_play[actions[i][1]] + 10, actions[i]])\n",
    "        else:\n",
    "            actions_priority.append([priority_mean[actions[i][2]], actions[i]])\n",
    "\n",
    "    actions =[a for _,a in sorted(actions_priority, reverse=True)]\n",
    "    return actions"
   ]
  },
  {
   "cell_type": "code",
   "execution_count": 25,
   "metadata": {},
   "outputs": [
    {
     "data": {
      "text/plain": [
       "['play', 3]"
      ]
     },
     "metadata": {},
     "output_type": "display_data"
    },
    {
     "name": "stdout",
     "output_type": "stream",
     "text": [
      "CPU times: user 55.1 ms, sys: 3.01 ms, total: 58.1 ms\n",
      "Wall time: 58.4 ms\n"
     ]
    },
    {
     "data": {
      "text/plain": [
       "['play', 2]"
      ]
     },
     "metadata": {},
     "output_type": "display_data"
    },
    {
     "name": "stdout",
     "output_type": "stream",
     "text": [
      "CPU times: user 472 ms, sys: 13.1 ms, total: 485 ms\n",
      "Wall time: 481 ms\n"
     ]
    },
    {
     "data": {
      "text/plain": [
       "['play', 3]"
      ]
     },
     "metadata": {},
     "output_type": "display_data"
    },
    {
     "name": "stdout",
     "output_type": "stream",
     "text": [
      "CPU times: user 367 ms, sys: 7.05 ms, total: 374 ms\n",
      "Wall time: 336 ms\n"
     ]
    },
    {
     "data": {
      "text/plain": [
       "['play', 4]"
      ]
     },
     "metadata": {},
     "output_type": "display_data"
    },
    {
     "name": "stdout",
     "output_type": "stream",
     "text": [
      "CPU times: user 292 ms, sys: 5.02 ms, total: 297 ms\n",
      "Wall time: 298 ms\n"
     ]
    }
   ],
   "source": [
    "board = np.array([[0, 0, 0, 0],\n",
    "                  [1, -1, 1, -1],\n",
    "                  [-1, 1, -1, -1],\n",
    "                  [1, 1, -1, 1]])\n",
    "%time display(alpha_beta_search(board, 10))\n",
    "\n",
    "board = np.array([[0, 0, 0, 0, 0],\n",
    "                  [-1, 1, -1, 1, -1],\n",
    "                  [-1, -1, -1, 1, -1],\n",
    "                  [1, 1, -1, 1, 1]])\n",
    "%time display(alpha_beta_search(board, 12))\n",
    "\n",
    "board = np.array([[0, 0, 0, 0, 0, 0],\n",
    "                  [-1, 1, -1, 1, -1, 1],\n",
    "                  [-1, -1, -1, 1, -1, -1],\n",
    "                  [1, 1, -1, 1, 1, 1]])\n",
    "%time display(alpha_beta_search(board, 14))\n",
    "\n",
    "board = np.array([[0, 0, 0, 0, 0, 0, 0],\n",
    "                  [-1, 1, -1, 1, 1, -1, -1],\n",
    "                  [1, -1, -1, -1, 1, -1, -1],\n",
    "                  [1, 1, 1, -1, 1, 1, 1]])\n",
    "%time display(alpha_beta_search(board, 14))"
   ]
  },
  {
   "cell_type": "markdown",
   "metadata": {},
   "source": [
    "This table shows how the move ordering influence the time it taks to make a move.\n",
    "\n",
    "| Size     | Without a move ordering | With a move ordering |\n",
    "|----------|------------------|---------------------|\n",
    "| 4x4     | 67.5ms | 58.4ms | \n",
    "| 4x5   | 928ms | 481ms | \n",
    "| 4x6 | 39s | 336ms | \n",
    "| 4x7 | 7min 9s | 298ms | \n",
    "\n",
    "As we can see from the table, a move ordering can reduce the time it takes to make a move."
   ]
  },
  {
   "cell_type": "markdown",
   "metadata": {},
   "source": [
    "### The first few moves\n",
    "\n",
    "Start with an empty board. This is the worst case scenario for minimax search with alpha-beta pruning since it needs solve all possible games that can be played (minus some pruning) before making the decision. What can you do? "
   ]
  },
  {
   "cell_type": "markdown",
   "metadata": {},
   "source": [
    "__Answer__\n",
    "1. Always put the first disc on the center row without searching the game tree.\n",
    "2. Set a limit for the number of total move. For example, if the board is 4* 4, set the move limit to be 20.\n",
    "3. If there is a immediate win oppotunity or opponent has a immediate oppotunity, put the disc on that to win or block opponent."
   ]
  },
  {
   "cell_type": "markdown",
   "metadata": {},
   "source": [
    "### Playtime\n",
    "\n",
    "Let the Minimax Search agent play a random agent on a small board. Analyze wins, losses and draws."
   ]
  },
  {
   "cell_type": "markdown",
   "metadata": {},
   "source": [
    "The Minimax Search agent always win since it always finds a optimal move while random agent not."
   ]
  },
  {
   "cell_type": "code",
   "execution_count": 10,
   "metadata": {
    "tags": []
   },
   "outputs": [
    {
     "data": {
      "text/plain": [
       "{1: 10, -1: 0, 0: 0}"
      ]
     },
     "execution_count": 10,
     "metadata": {},
     "output_type": "execute_result"
    }
   ],
   "source": [
    "environment(alpha_beta_search, random_player, 10)"
   ]
  },
  {
   "cell_type": "markdown",
   "metadata": {},
   "source": [
    "## Task 4: Heuristic Alpha-Beta Tree Search [3 points] \n",
    "\n",
    "### Heuristic evaluation function\n",
    "\n",
    "Define and implement a heuristic evaluation function."
   ]
  },
  {
   "cell_type": "code",
   "execution_count": 11,
   "metadata": {},
   "outputs": [],
   "source": [
    "'''\n",
    "Heuristic for utility of state. Returns score for a node:\n",
    "1. For terminal states it returns the utility. \n",
    "2. For non-terminal states:\n",
    "The value of a possible 3 is set to be 0.1. For example, if one player have [0,1,1,1] or [1,1,1,0] or [1,0,1,1] on the board,\n",
    "the score will plus 0.1. On the contrary, if the opponent have a possible 3, socre minus 0.1\n",
    "The value of a possible 2 is set to be 0.02. For example, if one player have [0,1,1,0] or [0,0,1,1] or [1,1,0,0] on the board,\n",
    "the score will plus 0.02. On the contrary, if the opponent have a possible 2, socre minus 0.02\n",
    "3. Different evaluation:\n",
    "Value of a possible 3 for the second evaluation is 0.05\n",
    "Value of a possible 2 for the second evaluation is 0.03\n",
    "    \n",
    "Function Returns: heuistic value, terminal?\n",
    "'''\n",
    "def evaluation(board, mode):\n",
    "    # return utility if it is terminal state\n",
    "    value = utility(board)\n",
    "    if value is not None: return value, True\n",
    "\n",
    "    if mode == 1:\n",
    "        addition3 = 0.1\n",
    "        addition2 = 0.02\n",
    "    else:\n",
    "        addition3 = 0.05\n",
    "        addition2 = 0.03\n",
    "    \n",
    "    # if it isn't terminal state\n",
    "    score = 0.0\n",
    "    height = len(board)\n",
    "    width = len(board[0])\n",
    "    \n",
    "    # check if there is a 3 that is possible to win horizontally\n",
    "    for i in range(height):\n",
    "        for j in range(width - 3):\n",
    "            if(board[i][j] + board[i][j + 1] + board[i][j + 2] + board[i][j + 3] == 3):\n",
    "                score += addition3\n",
    "            if(board[i][j] + board[i][j + 1] + board[i][j + 2] + board[i][j + 3] == -3):\n",
    "                score -= addition3\n",
    "    \n",
    "    # check if there is a 3 that is possible to win vertically\n",
    "    for j in range(width):\n",
    "        for i in range(height - 3):\n",
    "            if(board[i][j] + board[i + 1][j] + board[i + 2][j] + board[i + 3][j] == 3):\n",
    "                score += addition3\n",
    "            if(board[i][j] + board[i + 1][j] + board[i + 2][j] + board[i + 3][j] == -3):\n",
    "                score -= addition3\n",
    "            \n",
    "    # check if there is a 3 that is possible to win diagonally\n",
    "    for i in range(height - 3):\n",
    "        for j in range(width - 3):\n",
    "            if(board[i][j] + board[i + 1][j + 1] + board[i + 2][j + 2] + board[i + 3][j + 3] == 3):\n",
    "                score += addition3\n",
    "            if(board[i][j] + board[i + 1][j + 1] + board[i + 2][j + 2] + board[i + 3][j + 3] == -3):\n",
    "                score -= addition3\n",
    "            if(board[i + 3][j] + board[i + 2][j + 1] + board[i + 1][j + 2] + board[i][j + 3] == 3):\n",
    "                score += addition3\n",
    "            if(board[i + 3][j] + board[i + 2][j + 1] + board[i + 1][j + 2] + board[i][j + 3] == -3):\n",
    "                score -= addition3\n",
    "            \n",
    "    # check if there are 2 discs connected horizontally\n",
    "    for i in range(height):\n",
    "        for j in range(width - 3):\n",
    "            horizontal = [board[i][j], board[i][j + 1], board[i][j + 2], board[i][j + 3]]\n",
    "            sum1 = board[i][j] + board[i][j + 1] + board[i][j + 2] + board[i][j + 3]\n",
    "            \n",
    "            if(sum1 == 2 and -1 not in horizontal):\n",
    "                score += addition2\n",
    "            if(sum1 == -2 and 1 not in horizontal):\n",
    "                score -= addition2\n",
    "    \n",
    "    # check if there are 2 discs connected vertically\n",
    "    for j in range(width):\n",
    "        for i in range(height - 3):\n",
    "            if(board[i + 2][j] + board[i + 3][j] == 2 and board[i + 1][j] == 0):\n",
    "                score += addition2\n",
    "            if(board[i + 2][j] + board[i + 3][j] == -2 and board[i + 1][j] == 0):\n",
    "                score -= addition2\n",
    "            \n",
    "    # check if there are 2 discs connected diagonally\n",
    "    for i in range(height - 3):\n",
    "        for j in range(width - 3):\n",
    "            diagonal1 = [board[i][j], board[i + 1][j + 1], board[i + 2][j + 2], board[i + 3][j + 3]]\n",
    "            diagonal2 = [board[i + 3][j], board[i + 2][j + 1], board[i + 1][j + 2], board[i][j + 3]]\n",
    "            \n",
    "            sum1 = board[i][j] + board[i + 1][j + 1] + board[i + 2][j + 2] + board[i + 3][j + 3]\n",
    "            sum2 = board[i + 3][j] + board[i + 2][j + 1] + board[i + 1][j + 2] + board[i][j + 3]\n",
    "            \n",
    "            if(sum1 == 2 and -1 not in diagonal1):\n",
    "                score += addition2\n",
    "            if(sum1 == -2 and 1 not in diagonal1):\n",
    "                score -= addition2\n",
    "            if(sum2 == 2 and -1 not in diagonal2):\n",
    "                score += addition2\n",
    "            if(sum2 == -2 and 1 not in diagonal2):\n",
    "                score -= addition2\n",
    "    \n",
    "    return score, False"
   ]
  },
  {
   "cell_type": "markdown",
   "metadata": {},
   "source": [
    "### Cutting off search \n",
    "\n",
    "Modify your Minimax Search with Alpha-Beta Pruning to cut off search at a specified depth and use the heuristic evaluation function. Experiment with different cutoff values."
   ]
  },
  {
   "cell_type": "code",
   "execution_count": 12,
   "metadata": {},
   "outputs": [],
   "source": [
    "def heuristic_alpha_beta_search(board, cutoff, player = 1, mode = 1):\n",
    "    value, move = max_value_ab(board, player, -math.inf, +math.inf, 0, cutoff, mode)\n",
    "    return move\n",
    "\n",
    "def max_value_ab(state, player, alpha, beta, depth, cutoff, mode):\n",
    "    # check if it reaches cut off or terminal\n",
    "    value, terminal = evaluation(state, mode)\n",
    "    if((cutoff is not None and depth >= cutoff) or terminal): \n",
    "        if(terminal): \n",
    "            alpha, beta = value, value\n",
    "        return value, None\n",
    "    \n",
    "    value, move = -math.inf, None\n",
    "\n",
    "    # check all possible actions in the state, update alpha and return move with the largest value\n",
    "    for action in actions(state, player):\n",
    "        value2, action2 = min_value_ab(result(state, action, player), player, alpha, beta, depth + 1, cutoff, mode)\n",
    "        if value2 > value:\n",
    "            value, move = value2, action\n",
    "            alpha = max(alpha, value)\n",
    "        if value >= beta: return value, move\n",
    "    \n",
    "    return value, move\n",
    "\n",
    "def min_value_ab(state, player, alpha, beta, depth, cutoff, mode):\n",
    "    # check if it reaches cut off or terminal\n",
    "    value, terminal = evaluation(state, mode)\n",
    "    if((cutoff is not None and depth >= cutoff) or terminal): \n",
    "        if(terminal): \n",
    "            alpha, beta = value, value \n",
    "        return value, None\n",
    "    \n",
    "    value, move = +math.inf, None\n",
    "\n",
    "    # check all possible actions in the state, update beta and return move with the smallest value\n",
    "    for action in actions(state, other(player)):\n",
    "        value2, action2 = max_value_ab(result(state, action, other(player)), player, alpha, beta, depth + 1, cutoff, mode)\n",
    "        if value2 < value:\n",
    "            value, move = value2, action\n",
    "            beta = min(beta, value)\n",
    "        if value <= alpha: return value, move\n",
    "    \n",
    "    return value, move"
   ]
  },
  {
   "cell_type": "markdown",
   "metadata": {},
   "source": [
    "Experiment with the same manually created boards as above to check if the agent spots winning opportunities."
   ]
  },
  {
   "cell_type": "markdown",
   "metadata": {},
   "source": [
    "The Heuristic can spot the winning opportunities."
   ]
  },
  {
   "cell_type": "code",
   "execution_count": 13,
   "metadata": {
    "tags": []
   },
   "outputs": [
    {
     "name": "stdout",
     "output_type": "stream",
     "text": [
      "['play', 3]\n",
      "['play', 0]\n",
      "['play', 2]\n",
      "['play', 0]\n",
      "['play', 1]\n"
     ]
    }
   ],
   "source": [
    "board = np.array([[0, 0, 0, 0],\n",
    "                  [-1, 1, -1, 1],\n",
    "                  [1, -1, -1, 1],\n",
    "                  [1, -1, 1, 1]])\n",
    "print(heuristic_alpha_beta_search(board, 10, 1))\n",
    "\n",
    "board = np.array([[0, 0, 0, 0],\n",
    "                  [0, 0, 0, -1],\n",
    "                  [0, 0, -1, -1],\n",
    "                  [0, 1, 1, 1]])\n",
    "print(heuristic_alpha_beta_search(board, 10, 1))\n",
    "\n",
    "board = np.array([[0, 0, 0, 0],\n",
    "                  [1, 1, 0, 1],\n",
    "                  [-1, 1, -1, -1],\n",
    "                  [1, -1, -1, -1]])\n",
    "print(heuristic_alpha_beta_search(board, 10, 1))\n",
    "\n",
    "board = np.array([[0, 0, 0, 0],\n",
    "                  [-1, 1, 0, 0],\n",
    "                  [1, -1, 1, -1],\n",
    "                  [-1, -1, -1, 1]])\n",
    "print(heuristic_alpha_beta_search(board, 10, 1))\n",
    "\n",
    "board = np.array([[0, 0, 0, 0],\n",
    "                  [-1, 1, 1, -1],\n",
    "                  [-1, 1,-1, 1],\n",
    "                  [-1, 1, -1, 1]])\n",
    "print(heuristic_alpha_beta_search(board, 10, 1))"
   ]
  },
  {
   "cell_type": "markdown",
   "metadata": {},
   "source": [
    "How long does it take to make a move? Start with a smaller board with 4 columns and make the board larger by adding columns."
   ]
  },
  {
   "cell_type": "code",
   "execution_count": 15,
   "metadata": {},
   "outputs": [
    {
     "data": {
      "text/plain": [
       "['play', 2]"
      ]
     },
     "metadata": {},
     "output_type": "display_data"
    },
    {
     "name": "stdout",
     "output_type": "stream",
     "text": [
      "CPU times: user 87.6 ms, sys: 3.04 ms, total: 90.6 ms\n",
      "Wall time: 86.6 ms\n"
     ]
    },
    {
     "data": {
      "text/plain": [
       "['play', 2]"
      ]
     },
     "metadata": {},
     "output_type": "display_data"
    },
    {
     "name": "stdout",
     "output_type": "stream",
     "text": [
      "CPU times: user 168 ms, sys: 6.03 ms, total: 174 ms\n",
      "Wall time: 168 ms\n"
     ]
    },
    {
     "data": {
      "text/plain": [
       "['play', 3]"
      ]
     },
     "metadata": {},
     "output_type": "display_data"
    },
    {
     "name": "stdout",
     "output_type": "stream",
     "text": [
      "CPU times: user 395 ms, sys: 28.2 ms, total: 423 ms\n",
      "Wall time: 388 ms\n"
     ]
    },
    {
     "data": {
      "text/plain": [
       "['play', 3]"
      ]
     },
     "metadata": {},
     "output_type": "display_data"
    },
    {
     "name": "stdout",
     "output_type": "stream",
     "text": [
      "CPU times: user 764 ms, sys: 87.7 ms, total: 852 ms\n",
      "Wall time: 733 ms\n"
     ]
    }
   ],
   "source": [
    "board = np.array([[0, 0, 0, 0],\n",
    "                  [0, 0, 0, 0],\n",
    "                  [0, 0, 0, 0],\n",
    "                  [0, 0, 0, 0]])\n",
    "%time display(heuristic_alpha_beta_search(board, 5))\n",
    "\n",
    "board = np.array([[0, 0, 0, 0, 0],\n",
    "                  [0, 0, 0, 0, 0],\n",
    "                  [0, 0, 0, 0, 0],\n",
    "                  [0, 0, 0, 0, 0]])\n",
    "%time display(heuristic_alpha_beta_search(board, 5))\n",
    "\n",
    "board = np.array([[0, 0, 0, 0, 0, 0],\n",
    "                  [0, 0, 0, 0, 0, 0],\n",
    "                  [0, 0, 0, 0, 0, 0],\n",
    "                  [0, 0, 0, 0, 0, 0]])\n",
    "%time display(heuristic_alpha_beta_search(board, 5))\n",
    "\n",
    "board = np.array([[0, 0, 0, 0, 0, 0, 0],\n",
    "                  [0, 0, 0, 0, 0, 0, 0],\n",
    "                  [0, 0, 0, 0, 0, 0, 0],\n",
    "                  [0, 0, 0, 0, 0, 0, 0]])\n",
    "%time display(heuristic_alpha_beta_search(board, 5))"
   ]
  },
  {
   "cell_type": "markdown",
   "metadata": {},
   "source": [
    "### Playtime\n",
    "\n",
    "Let two heuristic search agents (different cutoff depth, different heuristic evaluation function) compete against each other on a reasonably sized board. Since there is no randomness, you only need to let them play once."
   ]
  },
  {
   "cell_type": "code",
   "execution_count": 16,
   "metadata": {
    "tags": []
   },
   "outputs": [
    {
     "data": {
      "text/plain": [
       "'Player 1 wins'"
      ]
     },
     "execution_count": 16,
     "metadata": {},
     "output_type": "execute_result"
    }
   ],
   "source": [
    "def switch(player):\n",
    "    # player 1 algorithm sets cutoff to be 10 and uses the first way of evaluation\n",
    "    # player 2 algorithm sets cutoff to be 5 and uses the second way of evaluation\n",
    "    if player == 1:\n",
    "        return -1, 5, 2\n",
    "    else:\n",
    "        return 1, 10, 1\n",
    "    \n",
    "def battle():    \n",
    "    move = 0\n",
    "    board = np.array([[0, 0, 0, 0],\n",
    "                  [0, 0, 0, 0],\n",
    "                  [0, 0, 0, 0],\n",
    "                  [0, 0, 0, 0]])\n",
    "    player, cutoff, mode = 1, 10, 1\n",
    "\n",
    "    while move < 100:\n",
    "        move += 1\n",
    "        action = heuristic_alpha_beta_search(board, cutoff, player, mode)\n",
    "        board = result(board, action, player)\n",
    "\n",
    "        winner = utility(board)     \n",
    "        if winner != None:\n",
    "            if winner == 1:\n",
    "                return \"Player 1 wins\"\n",
    "            elif winner == -1:\n",
    "                return \"Player 2 wins\"\n",
    "            else:\n",
    "                return \"Draw\"\n",
    "\n",
    "        if move == 100:\n",
    "            return \"Draw\"\n",
    "\n",
    "        player, cutoff, evaluation = switch(player)\n",
    "        \n",
    "battle()"
   ]
  },
  {
   "cell_type": "markdown",
   "metadata": {},
   "source": [
    "The Player 1 wins beacause it uses a larger cutoff value which mean that it will search deeper into the game tree. And its evaluation function is better since score of a possible 3 will be much larger than a possible 2, while Player 2 uses a evaluation function whose a possible 2 score is close to a possible 3"
   ]
  },
  {
   "cell_type": "markdown",
   "metadata": {},
   "source": [
    "## Tournament task [+ 1 to 5 bonus point will be assigned separately]\n",
    "\n",
    "Find another student and let your best agent play against the other student's best player. You are allowed to use any improvements you like as long as you code it yourself. We will set up a class tournament on Canvas. This tournament will continue after the submission deadline."
   ]
  },
  {
   "cell_type": "markdown",
   "metadata": {},
   "source": [
    "## Graduate student advanced task: Pure Monte Carlo Search and Best First Move [1 point]\n",
    "\n",
    "__Undergraduate students:__ This is a bonus task you can attempt if you like [+1 Bonus point].\n",
    "\n",
    "### Pure Monte Carlo Search\n",
    "\n",
    "Implement Pure Monte Carlo Search (see [tic-tac-toe-example](https://nbviewer.org/github/mhahsler/CS7320-AI/blob/master/Games/tictactoe_pure_monte_carlo_search.ipynb)) and investigate how this search performs on the test boards that you have used above. "
   ]
  },
  {
   "cell_type": "code",
   "execution_count": 17,
   "metadata": {
    "tags": []
   },
   "outputs": [],
   "source": [
    "def playout(board, action, player):\n",
    "    board = result(board, action, player)\n",
    "    player = other(player)\n",
    "    \n",
    "    while(True):\n",
    "        # check if it has reached the terminal state\n",
    "        winner = utility(board)\n",
    "        if winner is not None: return(winner)\n",
    "        \n",
    "        # generate random playout\n",
    "        choice = np.random.randint(0, len(actions(board, player)))\n",
    "        action = actions(board, player)[choice]\n",
    "        board = result(board, action, player)\n",
    "        \n",
    "        # change player\n",
    "        player = other(player)\n",
    "        \n",
    "def playouts(board, action, player, n):\n",
    "    return [playout(board, action, player) for i in range(n)]\n",
    "\n",
    "def pmcs(board, n, player):\n",
    "    action = actions(board, player)\n",
    "    n = math.floor(n/len(action))\n",
    "    \n",
    "    max = np.mean(playouts(board, action[0], player, n))\n",
    "    best_move = action[0]\n",
    "    for i in action:\n",
    "        current = np.mean(playouts(board, i, player, n))\n",
    "        if current > max:\n",
    "            max = current\n",
    "            best_move = i\n",
    "    return best_move"
   ]
  },
  {
   "cell_type": "code",
   "execution_count": 18,
   "metadata": {},
   "outputs": [
    {
     "name": "stdout",
     "output_type": "stream",
     "text": [
      "['play', 3]\n",
      "['play', 0]\n",
      "['play', 2]\n",
      "['play', 0]\n",
      "['play', 1]\n"
     ]
    }
   ],
   "source": [
    "board = np.array([[0, 0, 0, 0],\n",
    "                  [-1, 1, -1, 1],\n",
    "                  [1, -1, -1, 1],\n",
    "                  [1, -1, 1, 1]])\n",
    "print(pmcs(board, 10000, 1))\n",
    "\n",
    "board = np.array([[0, 0, 0, 0],\n",
    "                  [0, 0, 0, -1],\n",
    "                  [0, 0, -1, -1],\n",
    "                  [0, 1, 1, 1]])\n",
    "print(pmcs(board, 10000, 1))\n",
    "\n",
    "board = np.array([[0, 0, 0, 0],\n",
    "                  [1, 1, 0, 1],\n",
    "                  [-1, 1, -1, -1],\n",
    "                  [1, -1, -1, -1]])\n",
    "print(pmcs(board, 10000, 1))\n",
    "\n",
    "board = np.array([[0, 0, 0, 0],\n",
    "                  [-1, 1, 0, 0],\n",
    "                  [1, -1, 1, -1],\n",
    "                  [-1, -1, -1, 1]])\n",
    "print(pmcs(board, 10000, 1))\n",
    "\n",
    "board = np.array([[0, 0, 0, 0],\n",
    "                  [-1, 1, 1, -1],\n",
    "                  [-1, 1,-1, 1],\n",
    "                  [-1, 1, -1, 1]])\n",
    "print(pmcs(board, 10000, 1))"
   ]
  },
  {
   "cell_type": "markdown",
   "metadata": {},
   "source": [
    "The search can spot the winning oppotunities like Minimax Search with Alpha-Beta Pruning Algorithm and Heruristic Alpha-Beta Tree Search."
   ]
  },
  {
   "cell_type": "code",
   "execution_count": 19,
   "metadata": {},
   "outputs": [
    {
     "data": {
      "text/plain": [
       "['play', 2]"
      ]
     },
     "metadata": {},
     "output_type": "display_data"
    },
    {
     "name": "stdout",
     "output_type": "stream",
     "text": [
      "CPU times: user 16.3 s, sys: 32.9 ms, total: 16.4 s\n",
      "Wall time: 16.3 s\n"
     ]
    },
    {
     "data": {
      "text/plain": [
       "['play', 1]"
      ]
     },
     "metadata": {},
     "output_type": "display_data"
    },
    {
     "name": "stdout",
     "output_type": "stream",
     "text": [
      "CPU times: user 22.7 s, sys: 40.9 ms, total: 22.7 s\n",
      "Wall time: 22.7 s\n"
     ]
    },
    {
     "data": {
      "text/plain": [
       "['play', 5]"
      ]
     },
     "metadata": {},
     "output_type": "display_data"
    },
    {
     "name": "stdout",
     "output_type": "stream",
     "text": [
      "CPU times: user 29.2 s, sys: 63.1 ms, total: 29.2 s\n",
      "Wall time: 29.2 s\n"
     ]
    },
    {
     "data": {
      "text/plain": [
       "['play', 4]"
      ]
     },
     "metadata": {},
     "output_type": "display_data"
    },
    {
     "name": "stdout",
     "output_type": "stream",
     "text": [
      "CPU times: user 36.2 s, sys: 74.9 ms, total: 36.3 s\n",
      "Wall time: 36.2 s\n"
     ]
    }
   ],
   "source": [
    "board = np.array([[0, 0, 0, 0],\n",
    "                  [0, 0, 0, 0],\n",
    "                  [0, 0, 0, 0],\n",
    "                  [0, 0, 0, 0]])\n",
    "%time display(pmcs(board, 10000, 1))\n",
    "\n",
    "board = np.array([[0, 0, 0, 0, 0],\n",
    "                  [0, 0, 0, 0, 0],\n",
    "                  [0, 0, 0, 0, 0],\n",
    "                  [0, 0, 0, 0, 0]])\n",
    "%time display(pmcs(board, 10000, 1))\n",
    "\n",
    "board = np.array([[0, 0, 0, 0, 0, 0],\n",
    "                  [0, 0, 0, 0, 0, 0],\n",
    "                  [0, 0, 0, 0, 0, 0],\n",
    "                  [0, 0, 0, 0, 0, 0]])\n",
    "%time display(pmcs(board, 10000, 1))\n",
    "\n",
    "board = np.array([[0, 0, 0, 0, 0, 0, 0],\n",
    "                  [0, 0, 0, 0, 0, 0, 0],\n",
    "                  [0, 0, 0, 0, 0, 0, 0],\n",
    "                  [0, 0, 0, 0, 0, 0, 0]])\n",
    "%time display(pmcs(board, 10000, 1))"
   ]
  },
  {
   "cell_type": "markdown",
   "metadata": {},
   "source": [
    "### Best First Move\n",
    "\n",
    "How would you determine what the best first move for a standard board ($6 \\times 7$) is? You can use Pure Monte Carlo Search or any algorithms that you have implemented above."
   ]
  },
  {
   "cell_type": "code",
   "execution_count": 29,
   "metadata": {},
   "outputs": [
    {
     "data": {
      "text/plain": [
       "['play', 3]"
      ]
     },
     "execution_count": 29,
     "metadata": {},
     "output_type": "execute_result"
    }
   ],
   "source": [
    "board = np.array([[0, 0, 0, 0, 0, 0, 0],\n",
    "                  [0, 0, 0, 0, 0, 0, 0],\n",
    "                  [0, 0, 0, 0, 0, 0, 0],\n",
    "                  [0, 0, 0, 0, 0, 0, 0],\n",
    "                  [0, 0, 0, 0, 0, 0, 0],\n",
    "                  [0, 0, 0, 0, 0, 0, 0]])\n",
    "pmcs(board, 5000, 1)"
   ]
  },
  {
   "cell_type": "markdown",
   "metadata": {},
   "source": [
    "From the output of Pure Monte Carlo Search Algorithm, the best move for an empty 6 * 7 board is putting the disc to the center column."
   ]
  }
 ],
 "metadata": {
  "kernelspec": {
   "display_name": "Python 3 (ipykernel)",
   "language": "python",
   "name": "python3"
  },
  "language_info": {
   "codemirror_mode": {
    "name": "ipython",
    "version": 3
   },
   "file_extension": ".py",
   "mimetype": "text/x-python",
   "name": "python",
   "nbconvert_exporter": "python",
   "pygments_lexer": "ipython3",
   "version": "3.9.6"
  }
 },
 "nbformat": 4,
 "nbformat_minor": 4
}
