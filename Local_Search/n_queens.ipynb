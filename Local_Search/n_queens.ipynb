{
 "cells": [
  {
   "cell_type": "markdown",
   "metadata": {},
   "source": [
    "# Solving the n-Queens Problem using Local Search\n",
    "\n",
    "## Instructions\n",
    "\n",
    "Total Points: 10\n",
    "\n",
    "Complete this notebook and submit it. The notebook needs to be a complete project report with \n",
    "\n",
    "* your implementation,\n",
    "* documentation including a short discussion of how your implementation works and your design choices, and\n",
    "* experimental results (e.g., tables and charts with simulation results) with a short discussion of what they mean. \n",
    "\n",
    "Use the provided notebook cells and insert additional code and markdown cells as needed."
   ]
  },
  {
   "cell_type": "markdown",
   "metadata": {},
   "source": [
    "## The n-Queens Problem\n",
    "\n",
    "* __Goal:__ Find an arrangement of $n$ queens on a $n \\times n$ chess board so that no queen is on the same row, column or diagonal as any other queen.\n",
    "\n",
    "* __State space:__ An arrangement of the queens on the board. We restrict the state space to arrangements where there is only a single queen per column. We represent a state as an integer vector $\\mathbf{q} = \\{q_1, q_2, \\dots, q_n\\}$, each number representing the row positions of the queens from left to right. We will call a state a \"board.\"\n",
    "\n",
    "* __Objective function:__ The number of pairwise conflicts (i.e., two queens in the same row/column/diagonal).\n",
    "The optimization problem is to find the optimal arrangement $\\mathbf{q}^*$ of $n$ queens on the board can be written as:\n",
    "\n",
    "  > minimize: $\\mathrm{conflicts}(\\mathbf{q})$\n",
    "  >\n",
    "  > subject to: $\\mathbf{q} \\ \\text{contains only one queen per column}$\n",
    "\n",
    "  Note: the constraint (subject to) is enforced by the definition of the state space.\n",
    "\n",
    "* __Local improvement move:__ Move one queen to a different row in its column.\n",
    "\n",
    "* __Termination:__ For this problem there is always an arrangement $\\mathbf{q}^*$ with $\\mathrm{conflicts}(\\mathbf{q}^*) = 0$, however, the local improvement moves might end up in a local minimum. "
   ]
  },
  {
   "cell_type": "markdown",
   "metadata": {},
   "source": [
    "## Helper functions"
   ]
  },
  {
   "cell_type": "code",
   "execution_count": 1,
   "metadata": {},
   "outputs": [],
   "source": [
    "import numpy as np\n",
    "import matplotlib.pyplot as plt\n",
    "from matplotlib import colors\n",
    "\n",
    "np.random.seed(1234)\n",
    "\n",
    "\n",
    "def random_board(n):\n",
    "    \"\"\"Creates a random board of size n x n. Note that only a single queen is placed in each column!\"\"\"\n",
    "    \n",
    "    return(np.random.randint(0,n, size = n))\n",
    "\n",
    "def comb2(n): return n*(n-1)//2 # this is n choose 2 equivalent to math.comb(n, 2); // is int division\n",
    "\n",
    "def conflicts(board):\n",
    "    \"\"\"Caclulate the number of conflicts, i.e., the objective function.\"\"\"\n",
    "\n",
    "    n = len(board)\n",
    "    \n",
    "    horizontal_cnt = [0] * n\n",
    "    diagonal1_cnt = [0] * 2 * n\n",
    "    diagonal2_cnt = [0] * 2 * n\n",
    "    \n",
    "    for i in range(n):\n",
    "        horizontal_cnt[board[i]] += 1\n",
    "        diagonal1_cnt[i + board[i]] += 1\n",
    "        diagonal2_cnt[i - board[i] + n] += 1\n",
    "    \n",
    "    return sum(map(comb2, horizontal_cnt + diagonal1_cnt + diagonal2_cnt))\n",
    "\n",
    "\n",
    "def show_board(board, cols = ['white', 'gray'], fontsize = 48):  \n",
    "    \"\"\"display the board\"\"\"\n",
    "    \n",
    "    n = len(board)\n",
    "    \n",
    "    # create chess board display\n",
    "    display = np.zeros([n,n])\n",
    "    for i in range(n):\n",
    "        for j in range(n):\n",
    "            if (((i+j) % 2) != 0): \n",
    "                display[i,j] = 1\n",
    "    \n",
    "    cmap = colors.ListedColormap(cols)\n",
    "    fig, ax = plt.subplots()\n",
    "    ax.imshow(display, cmap = cmap, \n",
    "              norm = colors.BoundaryNorm(range(len(cols)+1), cmap.N))\n",
    "    ax.set_xticks([])\n",
    "    ax.set_yticks([])\n",
    "    \n",
    "    # place queens. Note: Unicode u265B is a black queen\n",
    "    for j in range(n):\n",
    "        plt.text(j, board[j], u\"\\u265B\", fontsize = fontsize, \n",
    "                 horizontalalignment = 'center',\n",
    "                 verticalalignment = 'center')\n",
    "    \n",
    "    print(f\"Board with {conflicts(board)} conflicts.\")\n",
    "    plt.show()"
   ]
  },
  {
   "cell_type": "markdown",
   "metadata": {},
   "source": [
    "## Create a board"
   ]
  },
  {
   "cell_type": "code",
   "execution_count": 2,
   "metadata": {},
   "outputs": [
    {
     "name": "stdout",
     "output_type": "stream",
     "text": [
      "Board with 4 conflicts.\n"
     ]
    },
    {
     "data": {
      "image/png": "[encoded data removed]",
      "text/plain": [
       "<Figure size 432x288 with 1 Axes>"
      ]
     },
     "metadata": {},
     "output_type": "display_data"
    },
    {
     "name": "stdout",
     "output_type": "stream",
     "text": [
      "Queens (left to right) are at rows: [3 3 2 1]\n",
      "Number of conflicts: 4\n"
     ]
    }
   ],
   "source": [
    "board = random_board(4)\n",
    "\n",
    "show_board(board)\n",
    "print(f\"Queens (left to right) are at rows: {board}\")\n",
    "print(f\"Number of conflicts: {conflicts(board)}\")"
   ]
  },
  {
   "cell_type": "markdown",
   "metadata": {},
   "source": [
    "A board $4 \\times 4$ with no conflicts:"
   ]
  },
  {
   "cell_type": "code",
   "execution_count": 3,
   "metadata": {},
   "outputs": [
    {
     "name": "stdout",
     "output_type": "stream",
     "text": [
      "Board with 0 conflicts.\n"
     ]
    },
    {
     "data": {
      "image/png": "[encoded data removed]",
      "text/plain": [
       "<Figure size 432x288 with 1 Axes>"
      ]
     },
     "metadata": {},
     "output_type": "display_data"
    }
   ],
   "source": [
    "board = [1,3,0,2]\n",
    "show_board(board)"
   ]
  },
  {
   "cell_type": "markdown",
   "metadata": {},
   "source": [
    "## Steepest-ascend Hill Climbing Search [3 Points]\n",
    "\n",
    "Calculate the objective function for all local moves (move each queen within its column) and always choose the best among all local moves. If there are no local moves that improve the objective, then you have reached a local optimum. "
   ]
  },
  {
   "cell_type": "markdown",
   "metadata": {},
   "source": [
    "__Definition for local move__\n",
    "\n",
    "__One local move is defined to be one queen moving up one square or moving down one square in my solutions for all the following questions.__ "
   ]
  },
  {
   "cell_type": "markdown",
   "metadata": {},
   "source": [
    "__Description:__\n",
    "\n",
    "The 'conflict' array stores the number of conflicts of all the possible neighbour states from the current state. Its length is twice as much as the number of queens that can store conflicts after two possible local moves of each queen(go up one step or go down one step).\n",
    "\n",
    "For example, if there are four queens on the board, the length of 'conflict' array will be 8. Position 0 will store the conflicts after the first queen moves up one step, and position 1 will store the conflicts after the first queen moves down one step. Likewise, postion 2 and 3 for the second queen, 4 and 5 for the third queen, 6 and 7 for the fourth queen. "
   ]
  },
  {
   "cell_type": "code",
   "execution_count": 4,
   "metadata": {},
   "outputs": [],
   "source": [
    "def steepest_ascend_hill_climbing_search(board, n):  \n",
    "    # Record the number of conlficts on the current board\n",
    "    current_conflict = conflicts(board)\n",
    "    \n",
    "    while 1:\n",
    "        # init the conflict array\n",
    "        # It stores number of conflicts of all the possible neighbour states from current state\n",
    "        conflict = [-1 for i in range(2 * n)]\n",
    "        \n",
    "        for i in range (n):\n",
    "            # If queen is not in position 0, then it can go up one step\n",
    "            if board[i] > 0:\n",
    "                board[i] -= 1\n",
    "                conflict[2 * i] = conflicts(board)\n",
    "                board[i] += 1\n",
    "\n",
    "            # If queen is not in position n - 1, then it can go down one step\n",
    "            if board[i] < n - 1:\n",
    "                board[i] += 1\n",
    "                conflict[2 * i + 1] = conflicts(board)\n",
    "                board[i] -= 1\n",
    "\n",
    "        # Find the best local move\n",
    "        pos = -1\n",
    "        for i in range (2 * n):\n",
    "            if conflict[i] > 0 and conflict[i] < current_conflict:\n",
    "                current_conflict = conflict[i]\n",
    "                pos = i\n",
    "        \n",
    "        # No better local move exists for current state, return current board as the solution\n",
    "        if pos == -1:\n",
    "            return board\n",
    "    \n",
    "        # Make the selected best move\n",
    "        if pos % 2 == 1:\n",
    "            board[pos//2] += 1\n",
    "        else:\n",
    "            board[pos//2] -= 1"
   ]
  },
  {
   "cell_type": "markdown",
   "metadata": {},
   "source": [
    "## Stochastic Hill Climbing 1 [2 Point]\n",
    "\n",
    "Chooses randomly from among all uphill moves. Make the probability of the choice proportional to the steepness of the uphill move (i.e., with the improvement in conflicts). "
   ]
  },
  {
   "cell_type": "markdown",
   "metadata": {},
   "source": [
    "__Description:__\n",
    "\n",
    "The 'conflict' array stores the number of conflicts of all the possible neighbour states from the current state. Its length is twice as much as the number of queens that can store conflicts after two possible local moves of each queen(go up one step or go down one step).\n",
    "\n",
    "For example, if there are four queens on the board, the length of 'conflict' array will be 8. Position 0 will store the conflicts after the first queen moves up one step, and position 1 will store the conflicts after the first queen moves down one step. Likewise, postion 2 and 3 for the second queen, 4 and 5 for the third queen, 6 and 7 for the fourth queen. \n",
    "\n",
    "The 'proportion' array stores the assigned probabilities for all good local moves. The way I assign probabilities to good local move depends on the steepness of the uphill move. For example, assume the conflict number of current board is 4. As I describe above, if choice 0(the first queen moves up one step) makes the conflict to 2, chocie 1(the first queen moves down one step) makes the conflict to 1 and choice 2(the second queen moves up one step) makes the conflict to 3. So the steepness for choice 1 would be 2, for choice 2 would be 3 and for choice 3 would be 1. Then generate the 'proportion' array: [0, 0, 1, 1, 1, 2], and equally random choose one number in the array. The probability of choice 2 being choosed will be 2/6, of choice 2 will be 3/6 and choice 3 will be 1/6, which are proportional to the steepness of the uphill move."
   ]
  },
  {
   "cell_type": "code",
   "execution_count": 5,
   "metadata": {},
   "outputs": [],
   "source": [
    "import random\n",
    "\n",
    "def stochastic_hill_climbing_search(board, n):  \n",
    "    while 1:\n",
    "        # init the conflict array\n",
    "        # It stores number of conflicts of all the possible neighbour states from current state\n",
    "        conflict = [-1 for i in range(2 * n)]\n",
    "        \n",
    "        # Record the number of conlficts on the current board\n",
    "        current_conflict = conflicts(board)\n",
    "        \n",
    "        for i in range (n):\n",
    "            # If queen is not in position 0, then it can go up one step\n",
    "            if board[i] > 0:\n",
    "                board[i] -= 1\n",
    "                conflict[2 * i] = conflicts(board)\n",
    "                board[i] += 1\n",
    "\n",
    "            # If queen is not in position n - 1, then it can go down one step\n",
    "            if board[i] < n - 1:\n",
    "                board[i] += 1\n",
    "                conflict[2 * i + 1] = conflicts(board)\n",
    "                board[i] -= 1\n",
    "\n",
    "        # Allocate probability for all good moves\n",
    "        flag = 0\n",
    "        proportion = []\n",
    "        for i in range (2 * n):\n",
    "            if conflict[i] > 0 and conflict[i] < current_conflict:\n",
    "                for j in range(current_conflict - conflict[i]):\n",
    "                    proportion.append(i)\n",
    "                    flag = 1\n",
    "\n",
    "        # No better local move exists for current state, return current board as the solution\n",
    "        if flag == 0:\n",
    "            return board\n",
    "        \n",
    "        # Random choose a good local move\n",
    "        pos = random.choice(proportion)\n",
    "        if pos % 2 == 1:\n",
    "            board[pos // 2] += 1\n",
    "        else:\n",
    "            board[pos // 2] -= 1"
   ]
  },
  {
   "cell_type": "markdown",
   "metadata": {},
   "source": [
    "## Stochastic Hill Climbing 2 [2 Point]\n",
    "\n",
    "A popular version of stochastic hill climbing generates only a single random local neighbor at a time and accept it if it has a better objective function value than the current state. This is very efficient if each state has many possible successor states. This method is called \"First-choice hill climbing\" in the textbook.\n",
    "\n",
    "__Notes:__ \n",
    "\n",
    "* Detecting local optima is tricky! You can, for example, stop if you were not able to improve the objective function during the last $x$ tries."
   ]
  },
  {
   "cell_type": "markdown",
   "metadata": {},
   "source": [
    "__Description:__\n",
    "\n",
    "Generate a single random local move each time. If it is a good move, accept it. Otherwise, not accept it. In the solution below I designed that if it cannot find a better solution from current state after trying for 100 times, it will stop finding and return the current state as the solution."
   ]
  },
  {
   "cell_type": "code",
   "execution_count": 6,
   "metadata": {},
   "outputs": [],
   "source": [
    "import random\n",
    "\n",
    "def single_random_hill_climbing_search(board, n):  \n",
    "    # Record the number of conlficts on the current board\n",
    "    current_conflict = conflicts(board)\n",
    "    \n",
    "    while 1:\n",
    "        count = 0\n",
    "        while 1:\n",
    "            count += 1\n",
    "            \n",
    "            # Generate a sinlge random local move\n",
    "            move = random.randint(0, 2 * n - 1)\n",
    "            \n",
    "            # Check if the move is possible(not moving a queen on position 0 up one step)\n",
    "            if move % 2 == 1 and board[move // 2] < n - 1:\n",
    "                board[move // 2] += 1\n",
    "                \n",
    "                # If it is a good move, make the move\n",
    "                if conflicts(board) < current_conflict:\n",
    "                    current_conflict = conflicts(board)\n",
    "                    break\n",
    "                    \n",
    "                # If it is a bad move, don't make the move\n",
    "                else:\n",
    "                    board[move // 2] -= 1\n",
    "\n",
    "            # Check if the move is possible(not moving a queen on position n-1 down one step)\n",
    "            if move % 2 == 0 and board[move // 2] > 0:\n",
    "                board[move // 2] -= 1\n",
    "                \n",
    "                # If it is a good move, make the move\n",
    "                if conflicts(board) < current_conflict:\n",
    "                    current_conflict = conflicts(board)\n",
    "                    break\n",
    "                    \n",
    "                # If it is a bad move, don't make the move\n",
    "                else:\n",
    "                    board[move // 2] += 1\n",
    "            \n",
    "            # If cannot improve the objective function during the last 100 tries, return the current board as the solution\n",
    "            if count == 100: \n",
    "                return board"
   ]
  },
  {
   "cell_type": "markdown",
   "metadata": {},
   "source": [
    "## Hill Climbing Search with Random Restarts [1 Point]\n",
    "\n",
    "Hill climbing will often end up in local optima. Restart the each of the three hill climbing algorithm up to 100 times with a random board to find a better (hopefully optimal) solution. Note that restart just means to run the algoithm several times with a new random initialization.  "
   ]
  },
  {
   "cell_type": "code",
   "execution_count": 7,
   "metadata": {},
   "outputs": [],
   "source": [
    "def random_starts(times, n, strategy):\n",
    "    # Set the seed so that it will genertate the same random board every time\n",
    "    np.random.seed(10)\n",
    "    init_board = random_board(n)\n",
    "    board_solution = init_board\n",
    "    conflict_solution = conflicts(init_board)\n",
    "    \n",
    "    # Steepest-assend Hilling Climbing Search\n",
    "    if strategy == 'SAHC':\n",
    "        for i in range (times): \n",
    "            np.random.seed(10)\n",
    "            init_board = random_board(n)\n",
    "            current_board = steepest_ascend_hill_climbing_search(init_board, n)\n",
    "            \n",
    "            if conflicts(current_board) < conflict_solution:\n",
    "                conflict_solution = conflicts(current_board)\n",
    "                board_solution = current_board\n",
    "        print(f\"Solution of Steepest-ascend Hilling Climbing: {conflicts(board_solution)} conflicts\")\n",
    "        \n",
    "    # Stochastic Hilling Climbing Search 1\n",
    "    elif strategy == \"SHC1\":\n",
    "        for i in range (times): \n",
    "            np.random.seed(10)\n",
    "            init_board = random_board(n)\n",
    "            current_board = stochastic_hill_climbing_search(init_board, n)\n",
    "            \n",
    "            if conflicts(current_board) < conflict_solution:\n",
    "                conflict_solution = conflicts(current_board)\n",
    "                board_solution = current_board\n",
    "        print(f\"Solution of Stochastic Hilling Climbing 1: {conflicts(board_solution)} conflicts\")\n",
    "        \n",
    "    # Stochastic Hilling Climbing Search 2\n",
    "    elif strategy == \"SHC2\":\n",
    "        for i in range (times): \n",
    "            np.random.seed(10)\n",
    "            init_board = random_board(n)\n",
    "            current_board = single_random_hill_climbing_search(init_board, n)\n",
    "            \n",
    "            if conflicts(current_board) < conflict_solution:\n",
    "                conflict_solution = conflicts(current_board)\n",
    "                board_solution = current_board\n",
    "        print(f\"Solution of Stochastic Hilling Climbing 2: {conflicts(board_solution)} conflicts\")"
   ]
  },
  {
   "cell_type": "code",
   "execution_count": 8,
   "metadata": {},
   "outputs": [
    {
     "name": "stdout",
     "output_type": "stream",
     "text": [
      "Solution of Steepest-ascend Hilling Climbing: 23 conflicts\n",
      "Solution of Stochastic Hilling Climbing 1: 19 conflicts\n",
      "Solution of Stochastic Hilling Climbing 2: 24 conflicts\n"
     ]
    }
   ],
   "source": [
    "random_starts(100, 50, \"SAHC\")\n",
    "random_starts(100, 50, \"SHC1\")\n",
    "random_starts(100, 50, \"SHC2\")"
   ]
  },
  {
   "cell_type": "markdown",
   "metadata": {},
   "source": [
    "## Compare Performance [2 Points]\n",
    "\n",
    "Use runtime and objective function value to compare the algorithms. \n",
    "\n",
    "* Use boards of different sizes to explore how the different algorithms perform. Make sure that you run the algorithms for each board size several times (at least 10 times) with different starting boards and report averages.\n",
    "\n",
    "* How do the algorithms scale with problem size?\n",
    "\n",
    "* What is the largest board each algorithm can solve in a reasonable amount time?"
   ]
  },
  {
   "cell_type": "markdown",
   "metadata": {},
   "source": [
    "The example below times creating 100 random boards and calculating the conflicts. Reported is the average run time over `N = 100` runs.\n",
    "\n",
    "For timing you can use the `time` package."
   ]
  },
  {
   "cell_type": "code",
   "execution_count": 9,
   "metadata": {},
   "outputs": [
    {
     "name": "stdout",
     "output_type": "stream",
     "text": [
      "This took: 2.031233310699463 milliseconds\n"
     ]
    }
   ],
   "source": [
    "import time\n",
    "\n",
    "N = 100\n",
    "total = 0\n",
    "\n",
    "for i in range(N):\n",
    "    t0 = time.time()\n",
    "    for i in range(1,100): conflicts(random_board(8))\n",
    "    t1 = time.time()\n",
    "    total += t1 - t0\n",
    "\n",
    "tm = total/N\n",
    "    \n",
    "print(f\"This took: {tm * 1e3} milliseconds\")"
   ]
  },
  {
   "cell_type": "markdown",
   "metadata": {},
   "source": [
    "The `timit` package is useful to measure time for code that is called repeatedly."
   ]
  },
  {
   "cell_type": "markdown",
   "metadata": {},
   "source": [
    "__Description:__\n",
    "\n",
    "In the performance comparasion part, I choose 5 diffenent board size which are 10 * 10, 20 * 20, 40 * 40, 80 * 80, 100 * 100. Since the different board size have integer mutiple relationship, I can easily see how runtime related to problem size for each algorithm. For example, we can say that problem size of board 40 * 40 is twice as much as problem size of board 20 * 20. So, If we compare the runtime for one algorithm to solve these two boards, we can easily find how problem size influent algorithm's performance."
   ]
  },
  {
   "cell_type": "code",
   "execution_count": 10,
   "metadata": {},
   "outputs": [
    {
     "name": "stdout",
     "output_type": "stream",
     "text": [
      "This took: 2.0279860000300687 milliseconds\n"
     ]
    }
   ],
   "source": [
    "import timeit\n",
    "\n",
    "N = 100\n",
    "\n",
    "tm = timeit.timeit('for i in range(1,100): conflicts(random_board(8))', \n",
    "                   globals = globals(), number = N)/N\n",
    "\n",
    "print(f\"This took: {tm * 1e3} milliseconds\")"
   ]
  },
  {
   "cell_type": "markdown",
   "metadata": {},
   "source": [
    "__Answer: Algorithm Performance__"
   ]
  },
  {
   "cell_type": "code",
   "execution_count": 11,
   "metadata": {},
   "outputs": [],
   "source": [
    "def performance_sahc():\n",
    "    board_size = [10, 20, 40, 80, 100]\n",
    "    sahc_time = []\n",
    "    sahc_conflicts = []\n",
    "    for i in board_size:\n",
    "        total = 0\n",
    "        t0 = time.time()\n",
    "\n",
    "        conflict = 0\n",
    "        for j in range (10): \n",
    "            init_board = random_board(i)\n",
    "            steepest_ascend_hill_climbing_search(init_board, i)\n",
    "            conflict += conflicts(steepest_ascend_hill_climbing_search(init_board, i))\n",
    "\n",
    "        t1 = time.time()\n",
    "        total = t1 - t0\n",
    "        runtime = round(total / 10, 5)\n",
    "        conflict /= 10\n",
    "        sahc_time.append(runtime)\n",
    "        sahc_conflicts.append(conflict)\n",
    "        print(f\"Average performance of steepest-asend hilling climbing search to solve a {i} * {i} board: {runtime} seconds, {conflict} conflicts\")\n",
    "    return sahc_time, sahc_conflicts\n",
    "        \n",
    "def performance_shc1():\n",
    "    board_size = [10, 20, 40, 80, 100]\n",
    "    shc1_time = []\n",
    "    shc1_conflicts = []\n",
    "    for i in board_size:\n",
    "        total = 0\n",
    "        t0 = time.time()\n",
    "\n",
    "        conflict = 0\n",
    "        for j in range (10): \n",
    "            init_board = random_board(i)\n",
    "            stochastic_hill_climbing_search(init_board, i)\n",
    "            conflict += conflicts(stochastic_hill_climbing_search(init_board, i))\n",
    "\n",
    "        t1 = time.time()\n",
    "        total = t1 - t0\n",
    "        runtime = round(total / 10, 5)\n",
    "        conflict /= 10\n",
    "        shc1_time.append(runtime)\n",
    "        shc1_conflicts.append(conflict)\n",
    "        print(f\"Average time of stochastic hilling climbing search 1 to solve a {i} * {i} board: {runtime} seconds, {conflict} conflicts\")\n",
    "    return shc1_time, shc1_conflicts\n",
    "        \n",
    "def performance_shc2():\n",
    "    board_size = [10, 20, 40, 80, 100]\n",
    "    shc2_time = []\n",
    "    shc2_conflicts = []\n",
    "    for i in board_size:\n",
    "        total = 0\n",
    "        t0 = time.time()\n",
    "\n",
    "        conflict = 0\n",
    "        for j in range (10): \n",
    "            init_board = random_board(i)\n",
    "            single_random_hill_climbing_search(init_board, i)\n",
    "            conflict += conflicts(single_random_hill_climbing_search(init_board, i))\n",
    "\n",
    "        t1 = time.time()\n",
    "        total = t1 - t0\n",
    "        runtime = round(total / 10, 5)\n",
    "        conflict /= 10\n",
    "        shc2_time.append(runtime)\n",
    "        shc2_conflicts.append(conflict)\n",
    "        print(f\"Average time of stochastic hilling climbing search 2 to solve a {i} * {i} board: {runtime} seconds, {conflict} conflicts\")\n",
    "    return shc2_time, shc2_conflicts"
   ]
  },
  {
   "cell_type": "code",
   "execution_count": 12,
   "metadata": {},
   "outputs": [
    {
     "name": "stdout",
     "output_type": "stream",
     "text": [
      "Average performance of steepest-asend hilling climbing search to solve a 10 * 10 board: 0.00206 seconds, 4.0 conflicts\n",
      "Average performance of steepest-asend hilling climbing search to solve a 20 * 20 board: 0.00894 seconds, 9.6 conflicts\n",
      "Average performance of steepest-asend hilling climbing search to solve a 40 * 40 board: 0.05619 seconds, 18.9 conflicts\n",
      "Average performance of steepest-asend hilling climbing search to solve a 80 * 80 board: 0.38183 seconds, 38.4 conflicts\n",
      "Average performance of steepest-asend hilling climbing search to solve a 100 * 100 board: 0.70041 seconds, 51.5 conflicts\n",
      "Average time of stochastic hilling climbing search 1 to solve a 10 * 10 board: 0.00147 seconds, 4.5 conflicts\n",
      "Average time of stochastic hilling climbing search 1 to solve a 20 * 20 board: 0.00791 seconds, 10.8 conflicts\n",
      "Average time of stochastic hilling climbing search 1 to solve a 40 * 40 board: 0.05743 seconds, 19.0 conflicts\n",
      "Average time of stochastic hilling climbing search 1 to solve a 80 * 80 board: 0.47207 seconds, 42.9 conflicts\n",
      "Average time of stochastic hilling climbing search 1 to solve a 100 * 100 board: 0.85056 seconds, 53.0 conflicts\n",
      "Average time of stochastic hilling climbing search 2 to solve a 10 * 10 board: 0.00304 seconds, 4.3 conflicts\n",
      "Average time of stochastic hilling climbing search 2 to solve a 20 * 20 board: 0.00784 seconds, 8.8 conflicts\n",
      "Average time of stochastic hilling climbing search 2 to solve a 40 * 40 board: 0.02177 seconds, 21.4 conflicts\n",
      "Average time of stochastic hilling climbing search 2 to solve a 80 * 80 board: 0.05528 seconds, 43.7 conflicts\n",
      "Average time of stochastic hilling climbing search 2 to solve a 100 * 100 board: 0.07476 seconds, 51.4 conflicts\n"
     ]
    }
   ],
   "source": [
    "(sahc_time, sahc_conflicts) = performance_sahc()\n",
    "(shc1_time, shc1_conflicts) = performance_shc1()\n",
    "(shc2_time, shc2_conflicts) = performance_shc2()"
   ]
  },
  {
   "cell_type": "markdown",
   "metadata": {},
   "source": [
    "Use 5 boards of different sizes to compare the runtime of three different algorithms. Run the algorithms for each board size 10 times with different starting boards.\n",
    "\n",
    "| Algorithm     | 10 * 10 | 20 * 20 | 40 * 40 | 80 * 80 | 100 * 100 |\n",
    "|-----------------|-----------------|-----------------|-----------------|-----------------|-----------------|\n",
    "|  Steepest-ascend Hill Climbing   |0.00206 |0.00894 |0.05619 |0.38183 |0.70041 |\n",
    "|  Stochastic Hill Climbing 1 |0.00147 |0.00791 |0.05743 |0.47207 |0.85056 |\n",
    "|  Stochastic Hill Climbing 2 |0.00304 |0.00784 |0.02177 |0.05528 |0.07476 |"
   ]
  },
  {
   "cell_type": "markdown",
   "metadata": {},
   "source": [
    "Use 5 boards of different sizes to compare the conflicts of three different algorithms. Run the algorithms for each board size 10 times with different starting boards.\n",
    "\n",
    "| Algorithm     | 10 * 10 | 20 * 20 | 40 * 40 | 80 * 80 | 100 * 100 |\n",
    "|-----------------|-----------------|-----------------|-----------------|-----------------|-----------------|\n",
    "|  Steepest-ascend Hill Climbing   |4.0 |9.6 |18.9 |38.4 |51.5 |\n",
    "|  Stochastic Hill Climbing 1 |4.5 |10.8 |19.0 |42.9 |53.0 |\n",
    "|  Stochastic Hill Climbing 2 |4.3 |8.8 |21.4 |43.7 |51.4 |"
   ]
  },
  {
   "cell_type": "markdown",
   "metadata": {},
   "source": [
    "__Answer: Algorithms Scale with Problem Size__"
   ]
  },
  {
   "cell_type": "markdown",
   "metadata": {},
   "source": [
    "__Conclusion:__\n",
    "As the problem size becomes to n times, runtime of Steepest-ascend Hill Climbing Algorithm and Stochastic Hill Climbing 1 Algorithm always becomes to n^3 times. While runtime of Stochastic Hill Climbing 2 Algorithm always becomes to n times. That is to say, Stochastic Hill Climbing 2 Algorithm always scales linear with the growth of problem size."
   ]
  },
  {
   "cell_type": "code",
   "execution_count": 13,
   "metadata": {},
   "outputs": [
    {
     "data": {
      "image/png": "[encoded data removed]",
      "text/plain": [
       "<Figure size 432x288 with 1 Axes>"
      ]
     },
     "metadata": {
      "needs_background": "light"
     },
     "output_type": "display_data"
    }
   ],
   "source": [
    "import matplotlib.pyplot as plt\n",
    "\n",
    "x = [10, 20, 40, 80, 100]\n",
    "plt.plot(x, sahc_time, color = 'r',label=\"SAHC\")\n",
    "plt.plot(x, shc1_time, color = 'g',label=\"SHC1\")\n",
    "plt.plot(x, shc2_time, color = 'b',label=\"SHC2\")\n",
    "plt.xlabel(\"Board Size\")\n",
    "plt.ylabel(\"Time(s)\")\n",
    "plt.legend(loc = \"best\")\n",
    "plt.show()"
   ]
  },
  {
   "cell_type": "markdown",
   "metadata": {},
   "source": [
    "__Conclusion:__\n",
    "When the problem size increases n times, average time for Steepest-ascend Hill Climbing Algorithm and Stochastic Hill Climbing 1 Algorithm to come out with a solution increases like n^2 ~ n^3 times, while average time for Stochastic Hill Climbing 2 Algorithm to come out with a solution increases n times. Stochastic Hill Climbing 2 Algorithm scales linear with the problem size. "
   ]
  },
  {
   "cell_type": "code",
   "execution_count": 14,
   "metadata": {},
   "outputs": [
    {
     "data": {
      "image/png": "[encoded data removed]",
      "text/plain": [
       "<Figure size 432x288 with 1 Axes>"
      ]
     },
     "metadata": {
      "needs_background": "light"
     },
     "output_type": "display_data"
    }
   ],
   "source": [
    "import matplotlib.pyplot as plt\n",
    "\n",
    "x = [10, 20, 40, 80, 100]\n",
    "plt.plot(x, sahc_conflicts, color = 'r',label=\"SAHC\")\n",
    "plt.plot(x, shc1_conflicts, color = 'g',label=\"SHC1\")\n",
    "plt.plot(x, shc2_conflicts, color = 'b',label=\"SHC2\")\n",
    "plt.xlabel(\"Board Size\")\n",
    "plt.ylabel(\"Conflicts\")\n",
    "plt.legend(loc = \"best\")\n",
    "plt.show()"
   ]
  },
  {
   "cell_type": "markdown",
   "metadata": {},
   "source": [
    "__Conclusion:__\n",
    "As the problem size increases, Steepest-ascend Hill Climbing Algorithm, Stochastic Hill Climbing 1 Algorithm and Stochastic Hill Climbing 2 Algorithm always perform the same. They scale linear with the growth of problem size."
   ]
  },
  {
   "cell_type": "markdown",
   "metadata": {},
   "source": [
    "__Answer: largest board each algorithm can solve in a reasonable amount time__\n",
    "\n",
    "In this part, I define a reasonable time to be aound 20~30 seconds, and run all three algorithms on the board as large as I can without breaking the time limit."
   ]
  },
  {
   "cell_type": "code",
   "execution_count": 15,
   "metadata": {},
   "outputs": [],
   "source": [
    "def largest_board_sahc(n):\n",
    "    total = 0\n",
    "    t0 = time.time()\n",
    "    \n",
    "    init_board = random_board(n)\n",
    "    steepest_ascend_hill_climbing_search(init_board, n)\n",
    "        \n",
    "    t1 = time.time()\n",
    "    total = t1 - t0\n",
    "    print(f\"Time of steepest-asend hilling climbing search to solve a {n} * {n} board: {total} seconds\")\n",
    "    \n",
    "def largest_board_shc1(n):\n",
    "    total = 0\n",
    "    t0 = time.time()\n",
    "    \n",
    "    init_board = random_board(n)\n",
    "    stochastic_hill_climbing_search(init_board, n)\n",
    "        \n",
    "    t1 = time.time()\n",
    "    total = t1 - t0\n",
    "    print(f\"Time of stochastic hilling climbing search 1 to solve a {n} * {n} board: {total} seconds\")\n",
    "    \n",
    "def largest_board_shc2(n):\n",
    "    total = 0\n",
    "    t0 = time.time()\n",
    "    \n",
    "    init_board = random_board(n)\n",
    "    single_random_hill_climbing_search(init_board, n)\n",
    "        \n",
    "    t1 = time.time()\n",
    "    total = round(t1 - t0, 2)\n",
    "    print(f\"Time of stochastic hilling climbing search 2 to solve a {n} * {n} board: {total} seconds\")"
   ]
  },
  {
   "cell_type": "code",
   "execution_count": 16,
   "metadata": {},
   "outputs": [
    {
     "name": "stdout",
     "output_type": "stream",
     "text": [
      "Time of steepest-asend hilling climbing search to solve a 300 * 300 board: 19.707681894302368 seconds\n",
      "Time of stochastic hilling climbing search 1 to solve a 300 * 300 board: 23.28610396385193 seconds\n",
      "Time of stochastic hilling climbing search 2 to solve a 3000 * 3000 board: 36.94 seconds\n"
     ]
    }
   ],
   "source": [
    "largest_board_sahc(300)\n",
    "largest_board_shc1(300)\n",
    "largest_board_shc2(3000)"
   ]
  },
  {
   "cell_type": "markdown",
   "metadata": {},
   "source": [
    "| Algorithm     | Board Size | Time(s) | \n",
    "|-----------------|-----------------|-----------------|\n",
    "|  Steepest-ascend Hill Climbing   |300 * 300 |19.70 | \n",
    "|  Stochastic Hill Climbing 1 |300 * 300 |23.28 | \n",
    "|  Stochastic Hill Climbing 2 |3000 * 3000 |36.94 | "
   ]
  },
  {
   "cell_type": "markdown",
   "metadata": {},
   "source": [
    "## Graduate student advanced task: Simulated Annealing [1 Point]\n",
    "Undergraduate students: This is a bonus task you can attempt if you like [+1 Bonus point].\n",
    "\n",
    "Simulated annealing is a form of stochastic hill climbing that avoid local optima by also allowing downhill moves with a probability proportional to a temperature. The temperature is decreased in every iteration following an annealing schedule. You have to experiment with the annealing schedule (Google to find guidance on this).\n",
    "\n",
    "Implement simulated annealing for the n-Queens problem and compare its performance with the previouse algorithms."
   ]
  },
  {
   "cell_type": "markdown",
   "metadata": {},
   "source": [
    "__Description:__\n",
    "\n",
    "Generate a random local move each time. If it is a good local move, accpet it. If it is a bad move, using e^(-∆E/T) to generate probability of accepting this bad move. I choose fast cooling schedule in following solution."
   ]
  },
  {
   "cell_type": "code",
   "execution_count": 17,
   "metadata": {},
   "outputs": [],
   "source": [
    "import random\n",
    "import math\n",
    "\n",
    "def simulated_annealing(board, n):  \n",
    "    # Record the number of conflicts on the current board\n",
    "    current_conflict = conflicts(board)\n",
    "    \n",
    "    # Set the initial temperature\n",
    "    temperature = n\n",
    "    t = 1\n",
    "    \n",
    "    while t:\n",
    "        # Random choose a move\n",
    "        move = random.randint(0, 2 * n - 1)\n",
    "        \n",
    "        if move % 2 == 1 and board[move // 2] < n - 1:\n",
    "            board[move // 2] += 1\n",
    "            \n",
    "            # If it is a good move, accept\n",
    "            if conflicts(board) < current_conflict:\n",
    "                current_conflict = conflicts(board)\n",
    "                \n",
    "            else:\n",
    "                # Use e^(-∆E/T) to generate the probability of accepting a bad move\n",
    "                e = math.exp((current_conflict - conflicts(board)) * (1 + t)/ temperature)\n",
    "                probability = np.random.choice([0, 1], p = [e, 1 - e]) \n",
    "                \n",
    "                if probability == 0:\n",
    "                    current_conflict = conflicts(board)\n",
    "                else:\n",
    "                    board[move // 2] -= 1\n",
    "\n",
    "        if move % 2 == 0 and board[move // 2] > 0:\n",
    "            board[move // 2] -= 1\n",
    "            \n",
    "            # If it is a good move, accept\n",
    "            if conflicts(board) < current_conflict:\n",
    "                current_conflict = conflicts(board)\n",
    "                \n",
    "            else:\n",
    "                # Use e^(-∆E/T) to generate the probability of accepting a bad move\n",
    "                e = math.exp((current_conflict - conflicts(board)) * (1 + t)/ temperature)\n",
    "                probability = np.random.choice([0, 1], p = [e, 1 - e]) \n",
    "                \n",
    "                if probability == 0:\n",
    "                    current_conflict = conflicts(board)\n",
    "                else:\n",
    "                    board[move // 2] += 1\n",
    "\n",
    "        # If the temperature declines smaller than 0.01, return the current state as the solution\n",
    "        if temperature / (1 + t) < 0.01:\n",
    "            return board\n",
    "        \n",
    "        t += 1"
   ]
  },
  {
   "cell_type": "markdown",
   "metadata": {},
   "source": [
    "__Description:__\n",
    "\n",
    "I run the simulated annealing algorithm on the 5 different boards that is same as the boards run with three alogorithms above. So that I can easily compare the performance difference between simulated annealing algorithm and other three algorithms in runtime and remaining conflicts."
   ]
  },
  {
   "cell_type": "code",
   "execution_count": 18,
   "metadata": {},
   "outputs": [
    {
     "name": "stdout",
     "output_type": "stream",
     "text": [
      "Average time of simulated annealing to solve a 10 * 10 board: 0.09358 seconds, 1.9 conflicts\n",
      "Average time of simulated annealing to solve a 20 * 20 board: 0.29867 seconds, 4.5 conflicts\n",
      "Average time of simulated annealing to solve a 40 * 40 board: 1.03941 seconds, 9.0 conflicts\n",
      "Average time of simulated annealing to solve a 80 * 80 board: 3.79986 seconds, 20.0 conflicts\n",
      "Average time of simulated annealing to solve a 100 * 100 board: 5.64271 seconds, 25.7 conflicts\n"
     ]
    }
   ],
   "source": [
    "def performance_sa():\n",
    "    board_size = [10, 20, 40, 80, 100]\n",
    "    sa_time = []\n",
    "    sa_conflicts = []\n",
    "    for i in board_size:\n",
    "        total = 0\n",
    "        t0 = time.time()\n",
    "\n",
    "        conflict = 0\n",
    "        for j in range(10):\n",
    "            init_board = random_board(i)\n",
    "            simulated_annealing(init_board, i)\n",
    "            conflict += conflicts(simulated_annealing(init_board, i))\n",
    "\n",
    "        t1 = time.time()\n",
    "        total = t1 - t0\n",
    "        runtime = round(total / 10, 5)\n",
    "        conflict /= 10\n",
    "        sa_time.append(runtime)\n",
    "        sa_conflicts.append(conflict)\n",
    "        print(f\"Average time of simulated annealing to solve a {i} * {i} board: {runtime} seconds, {conflict} conflicts\")\n",
    "    return sa_time, sa_conflicts\n",
    "        \n",
    "(sa_time, sa_conflicts) = performance_sa()"
   ]
  },
  {
   "cell_type": "code",
   "execution_count": 19,
   "metadata": {},
   "outputs": [
    {
     "data": {
      "image/png": "[encoded data removed]",
      "text/plain": [
       "<Figure size 432x288 with 1 Axes>"
      ]
     },
     "metadata": {
      "needs_background": "light"
     },
     "output_type": "display_data"
    }
   ],
   "source": [
    "import matplotlib.pyplot as plt\n",
    "\n",
    "x = [10, 20, 40, 80, 100]\n",
    "plt.plot(x, sahc_time, color = 'r',label=\"SAHC\")\n",
    "plt.plot(x, shc1_time, color = 'g',label=\"SHC1\")\n",
    "plt.plot(x, shc2_time, color = 'b',label=\"SHC2\")\n",
    "plt.plot(x, sa_time, color = 'y',label=\"SA\")\n",
    "plt.xlabel(\"Board Size\")\n",
    "plt.ylabel(\"Time(s)\")\n",
    "plt.legend(loc = \"best\")\n",
    "plt.show()"
   ]
  },
  {
   "cell_type": "code",
   "execution_count": 20,
   "metadata": {},
   "outputs": [
    {
     "data": {
      "image/png": "[encoded data removed]",
      "text/plain": [
       "<Figure size 432x288 with 1 Axes>"
      ]
     },
     "metadata": {
      "needs_background": "light"
     },
     "output_type": "display_data"
    }
   ],
   "source": [
    "import matplotlib.pyplot as plt\n",
    "\n",
    "x = [10, 20, 40, 80, 100]\n",
    "plt.plot(x, sahc_conflicts, color = 'r',label=\"SAHC\")\n",
    "plt.plot(x, shc1_conflicts, color = 'g',label=\"SHC1\")\n",
    "plt.plot(x, shc2_conflicts, color = 'b',label=\"SHC2\")\n",
    "plt.plot(x, sa_conflicts, color = 'y',label=\"SA\")\n",
    "plt.xlabel(\"Board Size\")\n",
    "plt.ylabel(\"Conflicts\")\n",
    "plt.legend(loc = \"best\")\n",
    "plt.show()"
   ]
  },
  {
   "cell_type": "markdown",
   "metadata": {},
   "source": [
    "__Conclusion:__\n",
    "\n",
    "From the chart above we can tell that using the above Simulated Annealing Algorithm, we can always get a better solution than other three algorithms on all size of boards. However, it always takes much more time."
   ]
  },
  {
   "cell_type": "markdown",
   "metadata": {},
   "source": [
    "## More things to do\n",
    "Implement a Genetic Algorithm for the n-Queens problem."
   ]
  }
 ],
 "metadata": {
  "kernelspec": {
   "display_name": "Python 3 (ipykernel)",
   "language": "python",
   "name": "python3"
  },
  "language_info": {
   "codemirror_mode": {
    "name": "ipython",
    "version": 3
   },
   "file_extension": ".py",
   "mimetype": "text/x-python",
   "name": "python",
   "nbconvert_exporter": "python",
   "pygments_lexer": "ipython3",
   "version": "3.9.6"
  }
 },
 "nbformat": 4,
 "nbformat_minor": 4
}
